{
 "cells": [
  {
   "cell_type": "code",
   "execution_count": 1,
   "id": "924093c7",
   "metadata": {},
   "outputs": [
    {
     "name": "stdout",
     "output_type": "stream",
     "text": [
      "Importing packages: completed\n"
     ]
    }
   ],
   "source": [
    "#importing relevant modules\n",
    "\n",
    "%matplotlib inline\n",
    "try:\n",
    "    \n",
    "    import os\n",
    "    import numpy as np\n",
    "    import pandas as pd\n",
    "    import matplotlib.pyplot as plt\n",
    "    import seaborn as sns\n",
    "    import collections\n",
    "    import string\n",
    "    import nltk\n",
    "    from nltk.tokenize import word_tokenize\n",
    "    from nltk.sentiment import SentimentIntensityAnalyzer\n",
    "    \n",
    "    print(\"Importing packages: completed\")\n",
    "except:\n",
    "    print(\"Something went wrong. Please run pip install <library-name> or make sure you spelt the library names correctly.\")"
   ]
  },
  {
   "cell_type": "code",
   "execution_count": 2,
   "id": "d3335efc",
   "metadata": {},
   "outputs": [
    {
     "data": {
      "text/html": [
       "<div>\n",
       "<style scoped>\n",
       "    .dataframe tbody tr th:only-of-type {\n",
       "        vertical-align: middle;\n",
       "    }\n",
       "\n",
       "    .dataframe tbody tr th {\n",
       "        vertical-align: top;\n",
       "    }\n",
       "\n",
       "    .dataframe thead th {\n",
       "        text-align: right;\n",
       "    }\n",
       "</style>\n",
       "<table border=\"1\" class=\"dataframe\">\n",
       "  <thead>\n",
       "    <tr style=\"text-align: right;\">\n",
       "      <th></th>\n",
       "      <th>album_name</th>\n",
       "      <th>track_title</th>\n",
       "      <th>track_n</th>\n",
       "      <th>lyric</th>\n",
       "      <th>line</th>\n",
       "    </tr>\n",
       "  </thead>\n",
       "  <tbody>\n",
       "    <tr>\n",
       "      <th>9360</th>\n",
       "      <td>Speak Now (Deluxe)</td>\n",
       "      <td>Superman</td>\n",
       "      <td>17</td>\n",
       "      <td>You've got a busy day today</td>\n",
       "      <td>46</td>\n",
       "    </tr>\n",
       "    <tr>\n",
       "      <th>9361</th>\n",
       "      <td>Speak Now (Deluxe)</td>\n",
       "      <td>Superman</td>\n",
       "      <td>17</td>\n",
       "      <td>Go save the world, I'll be around</td>\n",
       "      <td>47</td>\n",
       "    </tr>\n",
       "    <tr>\n",
       "      <th>9362</th>\n",
       "      <td>Speak Now (Deluxe)</td>\n",
       "      <td>Superman</td>\n",
       "      <td>17</td>\n",
       "      <td>Forever and ever here</td>\n",
       "      <td>48</td>\n",
       "    </tr>\n",
       "    <tr>\n",
       "      <th>9363</th>\n",
       "      <td>Speak Now (Deluxe)</td>\n",
       "      <td>Superman</td>\n",
       "      <td>17</td>\n",
       "      <td>I watch superman fly away</td>\n",
       "      <td>49</td>\n",
       "    </tr>\n",
       "    <tr>\n",
       "      <th>9364</th>\n",
       "      <td>Speak Now (Deluxe)</td>\n",
       "      <td>Superman</td>\n",
       "      <td>17</td>\n",
       "      <td>I swear, I'll be with you someday</td>\n",
       "      <td>50</td>\n",
       "    </tr>\n",
       "    <tr>\n",
       "      <th>9365</th>\n",
       "      <td>Speak Now (Deluxe)</td>\n",
       "      <td>Superman</td>\n",
       "      <td>17</td>\n",
       "      <td>I'll be right here on the ground</td>\n",
       "      <td>51</td>\n",
       "    </tr>\n",
       "    <tr>\n",
       "      <th>9366</th>\n",
       "      <td>Speak Now (Deluxe)</td>\n",
       "      <td>Superman</td>\n",
       "      <td>17</td>\n",
       "      <td>When you come back down</td>\n",
       "      <td>52</td>\n",
       "    </tr>\n",
       "    <tr>\n",
       "      <th>9367</th>\n",
       "      <td>Speak Now (Deluxe)</td>\n",
       "      <td>Superman</td>\n",
       "      <td>17</td>\n",
       "      <td>La, la, la, la, la, la</td>\n",
       "      <td>53</td>\n",
       "    </tr>\n",
       "    <tr>\n",
       "      <th>9368</th>\n",
       "      <td>Speak Now (Deluxe)</td>\n",
       "      <td>Superman</td>\n",
       "      <td>17</td>\n",
       "      <td>La, la, la, la, la, la</td>\n",
       "      <td>54</td>\n",
       "    </tr>\n",
       "    <tr>\n",
       "      <th>9369</th>\n",
       "      <td>Speak Now (Deluxe)</td>\n",
       "      <td>Superman</td>\n",
       "      <td>17</td>\n",
       "      <td>When you come back down</td>\n",
       "      <td>55</td>\n",
       "    </tr>\n",
       "  </tbody>\n",
       "</table>\n",
       "</div>"
      ],
      "text/plain": [
       "              album_name track_title  track_n  \\\n",
       "9360  Speak Now (Deluxe)    Superman       17   \n",
       "9361  Speak Now (Deluxe)    Superman       17   \n",
       "9362  Speak Now (Deluxe)    Superman       17   \n",
       "9363  Speak Now (Deluxe)    Superman       17   \n",
       "9364  Speak Now (Deluxe)    Superman       17   \n",
       "9365  Speak Now (Deluxe)    Superman       17   \n",
       "9366  Speak Now (Deluxe)    Superman       17   \n",
       "9367  Speak Now (Deluxe)    Superman       17   \n",
       "9368  Speak Now (Deluxe)    Superman       17   \n",
       "9369  Speak Now (Deluxe)    Superman       17   \n",
       "\n",
       "                                  lyric  line  \n",
       "9360        You've got a busy day today    46  \n",
       "9361  Go save the world, I'll be around    47  \n",
       "9362              Forever and ever here    48  \n",
       "9363          I watch superman fly away    49  \n",
       "9364  I swear, I'll be with you someday    50  \n",
       "9365   I'll be right here on the ground    51  \n",
       "9366            When you come back down    52  \n",
       "9367             La, la, la, la, la, la    53  \n",
       "9368             La, la, la, la, la, la    54  \n",
       "9369            When you come back down    55  "
      ]
     },
     "execution_count": 2,
     "metadata": {},
     "output_type": "execute_result"
    }
   ],
   "source": [
    "#load dataset\n",
    "lyrics = pd.read_csv( \"/Users/tanyi/Documents/Github/Taylor Swift Albums - Analysis/data/taylor_swift_lyrics_2006-2022_all.csv\")\n",
    "\n",
    "#inspect the dataframe\n",
    "lyrics.tail(10)"
   ]
  },
  {
   "cell_type": "code",
   "execution_count": 3,
   "id": "dc3b8d42",
   "metadata": {},
   "outputs": [
    {
     "name": "stdout",
     "output_type": "stream",
     "text": [
      "<class 'pandas.core.frame.DataFrame'>\n",
      "RangeIndex: 9370 entries, 0 to 9369\n",
      "Data columns (total 5 columns):\n",
      " #   Column       Non-Null Count  Dtype \n",
      "---  ------       --------------  ----- \n",
      " 0   album_name   9370 non-null   object\n",
      " 1   track_title  9370 non-null   object\n",
      " 2   track_n      9370 non-null   int64 \n",
      " 3   lyric        9370 non-null   object\n",
      " 4   line         9370 non-null   int64 \n",
      "dtypes: int64(2), object(3)\n",
      "memory usage: 366.1+ KB\n"
     ]
    }
   ],
   "source": [
    "lyrics.info()"
   ]
  },
  {
   "cell_type": "code",
   "execution_count": 4,
   "id": "d2966c97",
   "metadata": {},
   "outputs": [
    {
     "name": "stdout",
     "output_type": "stream",
     "text": [
      "['Fearless (Taylor’s Version)', 'Red (Deluxe Edition)', '1989 (Deluxe)', 'midnights', 'midnights (3am edition)', 'reputation', 'Taylor Swift', 'folklore (deluxe version)', 'Lover', 'evermore (deluxe version)', 'Speak Now (Deluxe)']\n"
     ]
    }
   ],
   "source": [
    "#Names of all the Taylor Swift albums between 2006 and 2022\n",
    "album_name_list = list(lyrics.album_name.unique())\n",
    "print((album_name_list))"
   ]
  },
  {
   "cell_type": "code",
   "execution_count": 5,
   "id": "c9d3b0ff",
   "metadata": {},
   "outputs": [
    {
     "name": "stdout",
     "output_type": "stream",
     "text": [
      "{'Fearless (Taylor’s Version)': 2008, 'Red (Deluxe Edition)': 2012, '1989 (Deluxe)': 2014, 'midnights': 2022, 'midnights (3am edition)': 2022, 'reputation': 2017, 'Taylor Swift': 2006, 'folklore (deluxe version)': 2021, 'Lover': 2019, 'evermore (deluxe version)': 2020, 'Speak Now (Deluxe)': 2010}\n"
     ]
    }
   ],
   "source": [
    "test_alb_dict = {}\n",
    "\n",
    "years = [2008, 2012, 2014, 2022, 2022, 2017, 2006, 2021, 2019, 2020, 2010 ]\n",
    "\n",
    "for i in range(len(album_name_list)):\n",
    "    test_alb_dict[album_name_list[i]] = years[i]\n",
    "\n",
    "print(test_alb_dict)\n"
   ]
  },
  {
   "cell_type": "code",
   "execution_count": 21,
   "id": "a9e42011",
   "metadata": {},
   "outputs": [
    {
     "ename": "KeyError",
     "evalue": "2",
     "output_type": "error",
     "traceback": [
      "\u001b[0;31m---------------------------------------------------------------------------\u001b[0m",
      "\u001b[0;31mKeyError\u001b[0m                                  Traceback (most recent call last)",
      "Cell \u001b[0;32mIn [21], line 3\u001b[0m\n\u001b[1;32m      1\u001b[0m \u001b[38;5;66;03m#Creating a new column \"album_year\" and matching years using the test_alb_dict\u001b[39;00m\n\u001b[1;32m      2\u001b[0m \u001b[38;5;66;03m#lyrics[\"album_year\"] = for i in range(len(lyrics)):\u001b[39;00m\n\u001b[0;32m----> 3\u001b[0m \u001b[43mtest_alb_dict\u001b[49m\u001b[43m[\u001b[49m\u001b[38;5;241;43m2\u001b[39;49m\u001b[43m]\u001b[49m\n",
      "\u001b[0;31mKeyError\u001b[0m: 2"
     ]
    }
   ],
   "source": [
    "#Creating a new column \"album_year\" and matching years using the test_alb_dict\n",
    "#lyrics[\"album_year\"] = for i in range(len(lyrics)):\n",
    "test_alb_dict[2]"
   ]
  },
  {
   "cell_type": "code",
   "execution_count": 18,
   "id": "ce93c459",
   "metadata": {},
   "outputs": [
    {
     "data": {
      "text/plain": [
       "'Fearless (Taylor’s Version)'"
      ]
     },
     "execution_count": 18,
     "metadata": {},
     "output_type": "execute_result"
    }
   ],
   "source": [
    "lyrics.loc[1, (\"album_name\")]\n",
    "#= 'Fearless (Taylor’s Version)'"
   ]
  },
  {
   "cell_type": "code",
   "execution_count": 17,
   "id": "613d0372",
   "metadata": {},
   "outputs": [
    {
     "data": {
      "text/plain": [
       "9370"
      ]
     },
     "execution_count": 17,
     "metadata": {},
     "output_type": "execute_result"
    }
   ],
   "source": [
    "lyrics[\"album_year\"] = populate_album_year()\n",
    "\n",
    "def populate_album_year(){\n",
    "    for i in range(lyrics.shape[0]):\n",
    "        if lyrics.loc[i, (\"album_name\")] in test_alb_dict.keys():\n",
    "            \n",
    "}\n",
    "        "
   ]
  },
  {
   "cell_type": "code",
   "execution_count": null,
   "id": "2b9e6b8b",
   "metadata": {},
   "outputs": [],
   "source": []
  }
 ],
 "metadata": {
  "kernelspec": {
   "display_name": "Python 3 (ipykernel)",
   "language": "python",
   "name": "python3"
  },
  "language_info": {
   "codemirror_mode": {
    "name": "ipython",
    "version": 3
   },
   "file_extension": ".py",
   "mimetype": "text/x-python",
   "name": "python",
   "nbconvert_exporter": "python",
   "pygments_lexer": "ipython3",
   "version": "3.10.6"
  }
 },
 "nbformat": 4,
 "nbformat_minor": 5
}
